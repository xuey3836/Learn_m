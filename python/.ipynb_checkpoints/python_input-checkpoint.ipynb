{
 "cells": [
  {
   "cell_type": "markdown",
   "metadata": {},
   "source": [
    "## 牛客网笔试输入"
   ]
  },
  {
   "cell_type": "code",
   "execution_count": 1,
   "metadata": {},
   "outputs": [],
   "source": [
    "import sys\n",
    "# a = sys.stdin.readline()\n",
    "\n",
    "## 单个数字 n =2\n",
    "## l例如  2\n",
    "n = sys.stdin.readline()\n",
    "# n = input()\n",
    "\n",
    "#  一行数组，请输入n = 2, m = 3, t = 4\n",
    "#  2 3 4\n",
    "line = sys.stdin.readline()\n",
    "line = input()\n",
    "m, n, t = map(lambda x: int(x), line.split())\n",
    "\n",
    "\n",
    "## 多行数组\n",
    "# 5\n",
    "# 1 1\n",
    "# 1 2\n",
    "# 3 1\n",
    "# 4 1\n",
    "# 2 2\n",
    "import sys\n",
    "lena = int(sys.stdin.readline())\n",
    "# lena = int(input())\n",
    "for i in range(lena):\n",
    "#     li = input()\n",
    "    li = int(sys.stdin.readline())\n",
    "    ai = list (map(lambda x: int(x), li.split()))\n",
    "    print(ai)"
   ]
  }
 ],
 "metadata": {
  "kernelspec": {
   "display_name": "Python 3",
   "language": "python",
   "name": "python3"
  },
  "language_info": {
   "codemirror_mode": {
    "name": "ipython",
    "version": 3
   },
   "file_extension": ".py",
   "mimetype": "text/x-python",
   "name": "python",
   "nbconvert_exporter": "python",
   "pygments_lexer": "ipython3",
   "version": "3.6.8"
  }
 },
 "nbformat": 4,
 "nbformat_minor": 2
}
