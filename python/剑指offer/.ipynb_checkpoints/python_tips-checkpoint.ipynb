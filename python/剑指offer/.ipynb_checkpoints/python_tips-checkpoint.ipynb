{
 "cells": [
  {
   "cell_type": "markdown",
   "metadata": {},
   "source": [
    "## Python 学习\n"
   ]
  },
  {
   "cell_type": "markdown",
   "metadata": {},
   "source": [
    "### Tips\n",
    "\n"
   ]
  },
  {
   "cell_type": "code",
   "execution_count": 6,
   "metadata": {},
   "outputs": [
    {
     "name": "stdout",
     "output_type": "stream",
     "text": [
      "I'm a method in A\n",
      "I'm a method in B\n"
     ]
    }
   ],
   "source": [
    "#类函数两个下划线开头 __method:  1. 不是函数私有，而是避免被子类同名函数覆盖； 2.不能被访问，只属于类本身\n",
    "class A(object):\n",
    "    def __method(self):\n",
    "        print(\"I'm a method in A\")\n",
    "\n",
    "    def method(self):\n",
    "        self.__method()\n",
    "a = A()\n",
    "a.method()\n",
    "\n",
    "class B(A):\n",
    "    def __method(self):\n",
    "        print(\"I'm a method in B\")\n",
    "\n",
    "b = B()\n",
    "b.method()"
   ]
  },
  {
   "cell_type": "code",
   "execution_count": 7,
   "metadata": {},
   "outputs": [
    {
     "name": "stdout",
     "output_type": "stream",
     "text": [
      "10\n",
      "5\n",
      "30\n"
     ]
    }
   ],
   "source": [
    "##Two underlines in the beginning and in the end\n",
    "### 在类里重写某些操作\n",
    "class CrazyNumber(object):\n",
    "\n",
    "    def __init__(self, n):\n",
    "        self.n = n\n",
    "\n",
    "    def __add__(self, other):\n",
    "        return self.n - other\n",
    "\n",
    "    def __sub__(self, other):\n",
    "        return self.n + other\n",
    "\n",
    "    def __str__(self):\n",
    "        return str(self.n)\n",
    "\n",
    "num = CrazyNumber(10)\n",
    "print(num)           # 10\n",
    "print(num + 5)       # 5\n",
    "print(num - 20)      # 30"
   ]
  },
  {
   "cell_type": "code",
   "execution_count": 1,
   "metadata": {},
   "outputs": [],
   "source": [
    "### pass when it is executed, nothing happens. It is useful as a placeholder when a statement is required syntactically, \n",
    "## but no code needs to be executed, for example:\n",
    "def f(arg): pass    # a function that does nothing (yet)\n",
    "class C: pass       # a class with no methods (yet)\n",
    "\n",
    "#列表前面加星号作用是将列表解开成两个独立的参数，传入函数，\n",
    "\n",
    "#字典前面加两个星号，是将字典解开成独立的元素作为形参。"
   ]
  },
  {
   "cell_type": "code",
   "execution_count": 8,
   "metadata": {},
   "outputs": [
    {
     "ename": "NameError",
     "evalue": "name 'reset' is not defined",
     "output_type": "error",
     "traceback": [
      "\u001b[1;31m---------------------------------------------------------------------------\u001b[0m",
      "\u001b[1;31mNameError\u001b[0m                                 Traceback (most recent call last)",
      "\u001b[1;32m<ipython-input-8-3984b81dcfe1>\u001b[0m in \u001b[0;36m<module>\u001b[1;34m\u001b[0m\n\u001b[0;32m      1\u001b[0m \u001b[1;31m##ipython 清空变量\u001b[0m\u001b[1;33m\u001b[0m\u001b[1;33m\u001b[0m\u001b[1;33m\u001b[0m\u001b[0m\n\u001b[1;32m----> 2\u001b[1;33m \u001b[0mreset\u001b[0m\u001b[1;33m\u001b[0m\u001b[1;33m\u001b[0m\u001b[0m\n\u001b[0m",
      "\u001b[1;31mNameError\u001b[0m: name 'reset' is not defined"
     ]
    }
   ],
   "source": [
    "##ipython 清空变量: reset"
   ]
  },
  {
   "cell_type": "code",
   "execution_count": null,
   "metadata": {},
   "outputs": [],
   "source": []
  }
 ],
 "metadata": {
  "kernelspec": {
   "display_name": "Python 3",
   "language": "python",
   "name": "python3"
  },
  "language_info": {
   "codemirror_mode": {
    "name": "ipython",
    "version": 3
   },
   "file_extension": ".py",
   "mimetype": "text/x-python",
   "name": "python",
   "nbconvert_exporter": "python",
   "pygments_lexer": "ipython3",
   "version": "3.6.8"
  }
 },
 "nbformat": 4,
 "nbformat_minor": 2
}
